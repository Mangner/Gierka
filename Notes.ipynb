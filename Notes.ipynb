{
 "cells": [
  {
   "cell_type": "markdown",
   "id": "fc71d6cb",
   "metadata": {},
   "source": [
    "# Funkcja `pygame.init()`\n",
    "\n",
    "Funkcja ta jest kluczowa do robienia gier w PyGame. Inicjalizacja tej funkcji przygotowuje biblioteki i wewnętrzne moduły do użytku ( w tym wyświetlanie , audio itp.). Sama funckja zwraca krotke składającą się z 2 liczb . `I Liczba` wskazuje ile modułów zdołało się pomyślnie zainicjalizować ,natomiast `II Liczba` wskazuję ile modułów się nie udało zainicjalizować. "
   ]
  },
  {
   "cell_type": "code",
   "execution_count": null,
   "id": "f63f826d",
   "metadata": {},
   "outputs": [],
   "source": [
    "import pygame\n",
    "\n",
    "krotka = pygame.init()\n",
    "print(krotka)"
   ]
  },
  {
   "cell_type": "markdown",
   "id": "aabd884f",
   "metadata": {},
   "source": [
    "Zwięźle mówiąc bez `pygame.initialize()` nie będziemy w stanie używać żadnych funckji z `Pygame` takich jak tworzenie okien , obsługa eventów , załadowywanie obrazów , załączanie dźwięków czy jakichkolwiek innych funkcjonalności gry."
   ]
  },
  {
   "cell_type": "markdown",
   "id": "0d9c3154",
   "metadata": {},
   "source": [
    "# Tworzenie Okien\n",
    "\n",
    "Do wyświetlania okien , na których będziemy wyświetlać całą grę będziemy stosować funckcję: `pygame.display.set_mode((WIDTH, HEIGHT))`. Funkcja ta przyjmuje jako argument krotkę 2 liczb. `HEIGHT` to wysokość naszego okna wyrażona w pikselach natomiast `WIDTH` to szerokość."
   ]
  },
  {
   "cell_type": "code",
   "execution_count": null,
   "id": "5857960f",
   "metadata": {},
   "outputs": [],
   "source": [
    "screen = pygame.display.set_mode((1000,1000)) #Tworzy Okno 1000 px na 1000 px"
   ]
  },
  {
   "cell_type": "markdown",
   "id": "6f2c49eb",
   "metadata": {},
   "source": [
    "Jeżeli chcemy rozciągnąc okno na cały ekran w set_mode() poza krotką z rozmiarem musimy dodać `pygame.FULLSCREEN`."
   ]
  },
  {
   "cell_type": "code",
   "execution_count": null,
   "id": "27bac778",
   "metadata": {},
   "outputs": [],
   "source": [
    "screen = pygame.display.set_mode((1000,1000) , pygame.FULLSCREEN) #Tworzy Okno 1000 px na 1000 px na cały ekran"
   ]
  },
  {
   "cell_type": "markdown",
   "id": "95d68e69",
   "metadata": {},
   "source": [
    "Aczkolwiek powyższe przykłady stworzą okno wyłącznie na moment po czym znikną. Dzieje się tak ponieważ kompilator idący po linijkach kodu dochodzi do końca i kończy życie a z nim okno.\n",
    "    \n",
    "    import pygame                                              I.    Pierwsze przejście kompilatora\n",
    "                                                               II.   Drugie przejście kompilatora\n",
    "    pygame.init                                                III.  Trzecie przejście kompilatora\n",
    "    screen = pygame.display.set_mode((1000,1000))              IV.   Czwarte przejście i inicjalizacja okna\n",
    "                                                               V.    Piąte przejście kompilatora\n",
    "    #Koniec programu.                                          VI.   Szóste przejście , koniec programu i życia okna\n",
    "\n",
    "Dlatego program musi się zatrzymać na nieskończonej pętli w której będzie działało nasze okno."
   ]
  },
  {
   "cell_type": "code",
   "execution_count": null,
   "id": "7c3edfef",
   "metadata": {},
   "outputs": [],
   "source": [
    "screen = pygame.display.set_mode((1000,1000)) \n",
    "\n",
    "while True:\n",
    "    pass"
   ]
  },
  {
   "cell_type": "markdown",
   "id": "e111c028",
   "metadata": {},
   "source": [
    "Teraz nasze okno nie znika. Niestety jest kolejny problem , z wyjściem . Wciskanie `X` nie skutkuje. Dzieje się tak gdyż nie obsłużyliśmy takiej funkcjonalności jak wyjście za pomocą `X`. Taka funkcjonalność wpisuje się w `event-y` dlatego zapoznajmy się z definicją `event-ów`.\n",
    "\n",
    "`Event` - (wydarzenie) w programowaniu to działanie które jest rozpoznywane przez oprogramowanie , po to by można było napisać obsługę tego wydarzenia.\n",
    "Do event-ów zaliczają się wejścia użytkownika jak klknięcia myszy czy klawiatury , sygnały systemowe lub wiadomości od innych programów.\n",
    "\n",
    "W `PyGame` mamy wiele rodzajów event-ów tak zwanych `event.type` takich jak:\n",
    "\n",
    "- `QUIT` - wydzarzenie uruchomione gdy użytkownik próbuje wyjść z okna\n",
    "\n",
    "- `KEYDOWN` i `KEYUP` - wydzarzenia uruchamiane gdy kolejno przycisk na klawiaturze jest przyciskany a natępnie puszczany\n",
    "\n",
    "- `MOUSEBUTTONDOWN` i `MOUSEBUTTONUP` - wydarzenie uruchamiane gdy kolejno przycisk myszy jest wciskany i puszczany\n",
    "\n",
    "- `MOUSEMOTION` - wydarzenie uruchamiane gdy ruszamy myszą \n",
    "\n",
    "Funkcją która wychwytuje i zwraca wszystkie pojawione się od momentu wywołania event-y jest `pygame.event.get()`. Funckja ta zwraca te event-y w postaci listy po której możemy iterować.\n",
    "Oto przykładowy sposób jak obsługiwać `event-y`. "
   ]
  },
  {
   "cell_type": "code",
   "execution_count": null,
   "id": "0fc0fd10",
   "metadata": {},
   "outputs": [],
   "source": [
    "screen = pygame.display.set_mode((600, 400))\n",
    "\n",
    "running = True\n",
    "\n",
    "while running:\n",
    "    for event in pygame.event.get():\n",
    "        if event.type == pygame.QUIT:\n",
    "            running = False"
   ]
  },
  {
   "cell_type": "markdown",
   "id": "157f6469",
   "metadata": {},
   "source": [
    "Powyższy przykład obsługuje wyjście z gry za pomocą zakmnięcia okna. Gdzie porównujemy wszystkie typy wydarzeń aż trafimy na nasz wybrany."
   ]
  },
  {
   "cell_type": "markdown",
   "id": "65f34327",
   "metadata": {},
   "source": [
    "### Ustawianie nazwy okna\n",
    "\n",
    "Domyślnie okno które będziemy otwierać będzie się nazywać pygame. By to zmienić użyjemy funkcji `pygame.display.set_caption(\"Nazwa_Gry\")`. Zmianę nazwy ustawiamy po zainicjalizowaniu okna i przed petlą."
   ]
  },
  {
   "cell_type": "code",
   "execution_count": null,
   "id": "3023cb7b",
   "metadata": {},
   "outputs": [],
   "source": [
    "pygame.display.set_caption(\"My Game\")"
   ]
  },
  {
   "cell_type": "markdown",
   "id": "7470c3f8",
   "metadata": {},
   "source": [
    "### Ustawianie Ikony Gry\n",
    "\n",
    "Podobnie jak w przypadku nazwy bez uprzedniego ikona jest domyślna. W celu jej zmienienia najpierw załadujemy obraz funkcją `pygame.image.load(\"nazwa_obrazu.png\")` a następnie zmienimy funkcją `pygame.display.set_icon(zmienna_z_ikona)`. Miejsce usadowienia tych lini kodu takie same jak w przypadku zmiany nazwy gry . Ważne by obraz mieć w tym samym folderu co resztę plików."
   ]
  },
  {
   "cell_type": "code",
   "execution_count": null,
   "id": "acc85d54",
   "metadata": {},
   "outputs": [],
   "source": [
    "icon = pygame.image.load(\"gun.png\")\n",
    "pygame.display.set_icon(icon)"
   ]
  },
  {
   "cell_type": "markdown",
   "id": "3b839c5f",
   "metadata": {},
   "source": [
    "W przypadku gdy ikona znajduje się w innym miejscu niż biężacym dysku należy użyć zamiast nazwy ikony jej ścieżki. Nie zapomnij przed cudzysłowiem dodać r by ścieżka była prawidłowo odczytana bez tabulacji , nowych linii itp."
   ]
  },
  {
   "cell_type": "code",
   "execution_count": null,
   "id": "ad650676",
   "metadata": {},
   "outputs": [],
   "source": [
    "icon = pygame.image.load(r\"C:\\Users\\05lan\\Desktop\\Python\\Gierka\\assets\\gun.png\")"
   ]
  },
  {
   "cell_type": "markdown",
   "id": "9e26ef5c",
   "metadata": {},
   "source": [
    "### Zmiana  Koloru Tła\n",
    "\n",
    "Do zmiany koloru tła użyjemy funckji `screen.fill((R,G,B))`. Która za arguemnt przyjmuję krotkę 3 liczb od 0 - 255 które odpowiadają za kolory RGB. W celu znalezienia odpowiadającego tobie koloru spójrz na tą stronkę gdzie zobaczysz jak wyglądają niektóre kombinacje i również możesz przetestować własne. [Tutaj :)](https://www.rapidtables.com/convert/color/hex-to-rgb.html)."
   ]
  },
  {
   "cell_type": "code",
   "execution_count": null,
   "id": "ebc70b06",
   "metadata": {},
   "outputs": [],
   "source": [
    "screen.fill((128, 0, 0))"
   ]
  },
  {
   "cell_type": "markdown",
   "id": "565b7ab2",
   "metadata": {},
   "source": [
    "Umiejscowienie tej linijki kodu powinno się znajdować w głównej pętli gry. Jednak bez funkcji `pygame.display.update()` nie zadziała.\n",
    "\n",
    "\n",
    "# Funkcja `pygame.display.update()`\n",
    "\n",
    "Druga najważniejsza zaraz po `pygame.init()` funckja w pygame-ie. Aktualizuje ona wszystkie rysowania dziejące się na ekranie uwidaczniając je. Jest to związane z naturą pygame-a , gdyż stosuje ona grafikę podwójnie buforowaną - `Double Buffeered Graphics`. Bufory możemy utożsamiać z dwiema powierzchniami - jednej widocznej dla użytkownika - drugiej ukrytej. Funckje rysujące działają właśnie na tej ukrytej powierzchni dlatego używamy \n",
    "`update()` by przenieść te zmiany rysunkowe na główną powierzchnię widoczną dla użytkownika. Takie zastosowanie zapobiega widoczności niekompletnych lub migotających klatek."
   ]
  },
  {
   "cell_type": "code",
   "execution_count": null,
   "id": "86f03ccb",
   "metadata": {},
   "outputs": [],
   "source": [
    "while running:\n",
    "    for event in pygame.event.get():\n",
    "        if event.type == pygame.QUIT:\n",
    "            running = False\n",
    "\n",
    "    screen.fill((128, 0, 0))\n",
    "    pygame.display.update()"
   ]
  },
  {
   "cell_type": "markdown",
   "id": "aa87259f",
   "metadata": {},
   "source": [
    "Funckja ta powinna być wywoływana w głównej pętli gry po wszystkich akcjach rysujących. Jeżeli zmiany obejmują prawie cały ekran lepszą praktyką zamienną\n",
    "do `pygame.display.update()` jest `pygame.display.flip()`."
   ]
  },
  {
   "cell_type": "code",
   "execution_count": null,
   "id": "d6fa2cf2",
   "metadata": {},
   "outputs": [],
   "source": [
    "pygame.display.flip()"
   ]
  },
  {
   "cell_type": "markdown",
   "id": "32781b99",
   "metadata": {},
   "source": [
    "### Częściowe Aktualizowanie Zmian na Ekranie\n",
    "\n",
    "Jeżeli nasze zmiany są niewielkie optymalniejszym rozwiązaniem jest zmianę tylko tego małego obszaru. Do tego stosuje się prostokątów - `rectangle`.\n",
    "Funckja `update()` i `flip()` przyjmują je za argumenty i aktualizują obraz tylko w tym obszarze.\n",
    "\n",
    "### Budowa Prostokąta\n",
    "\n",
    "Do utworzenia prostokąta stosujemy funkcje `pygame.Rect(x_cord, y_cord, width, height)`. Gdzie:\n",
    "\n",
    "-  `x_cord` to pozycja jego lewego górnego rogu w osi x\n",
    "\n",
    "-  `y_cord` to pozycja jego lewego górnego rogu w osi y\n",
    "\n",
    "-  `width` to szerokość prostokąta\n",
    "\n",
    "-  `height` to wysokość prostokąta\n",
    "\n",
    "Wszystkie powyższe wartości są podane w pixelach.\n",
    "\n"
   ]
  },
  {
   "cell_type": "code",
   "execution_count": null,
   "id": "791cfe3d",
   "metadata": {},
   "outputs": [],
   "source": [
    "rectangle = pygame.rect(100, 100, 100, 100)\n",
    "\n",
    "pygame.display.flip(rectangle)   # Aktualizuje tylko obszar prostokąta"
   ]
  }
 ],
 "metadata": {
  "kernelspec": {
   "display_name": "Python 3",
   "language": "python",
   "name": "python3"
  },
  "language_info": {
   "codemirror_mode": {
    "name": "ipython",
    "version": 3
   },
   "file_extension": ".py",
   "mimetype": "text/x-python",
   "name": "python",
   "nbconvert_exporter": "python",
   "pygments_lexer": "ipython3",
   "version": "3.11.9"
  }
 },
 "nbformat": 4,
 "nbformat_minor": 5
}
